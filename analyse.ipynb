{
 "cells": [
  {
   "cell_type": "code",
   "execution_count": 1,
   "metadata": {},
   "outputs": [],
   "source": [
    "import os\n",
    "import cv2\n",
    "\n",
    "import numpy as np\n",
    "import pandas as pd\n",
    "from matplotlib import pyplot as plt"
   ]
  },
  {
   "cell_type": "code",
   "execution_count": 2,
   "metadata": {
    "pycharm": {
     "name": "#%%\n"
    }
   },
   "outputs": [],
   "source": [
    "path = r\"C:\\Users\\4799XA\\OneDrive\\Formation DATASCIENCE\\Projet DATA SCIENCE\\code\\fcdspneumonie\\fcdspneumonie\""
   ]
  },
  {
   "cell_type": "code",
   "execution_count": 3,
   "metadata": {
    "pycharm": {
     "name": "#%%\n"
    }
   },
   "outputs": [
    {
     "data": {
      "text/html": [
       "<div>\n",
       "<style scoped>\n",
       "    .dataframe tbody tr th:only-of-type {\n",
       "        vertical-align: middle;\n",
       "    }\n",
       "\n",
       "    .dataframe tbody tr th {\n",
       "        vertical-align: top;\n",
       "    }\n",
       "\n",
       "    .dataframe thead th {\n",
       "        text-align: right;\n",
       "    }\n",
       "</style>\n",
       "<table border=\"1\" class=\"dataframe\">\n",
       "  <thead>\n",
       "    <tr style=\"text-align: right;\">\n",
       "      <th></th>\n",
       "      <th>fichier</th>\n",
       "      <th>format</th>\n",
       "      <th>rep1</th>\n",
       "      <th>rep2</th>\n",
       "      <th>pathogen</th>\n",
       "      <th>height</th>\n",
       "      <th>width</th>\n",
       "      <th>size</th>\n",
       "      <th>mode</th>\n",
       "      <th>mean</th>\n",
       "      <th>median</th>\n",
       "      <th>std</th>\n",
       "      <th>seuil100</th>\n",
       "    </tr>\n",
       "  </thead>\n",
       "  <tbody>\n",
       "    <tr>\n",
       "      <th>0</th>\n",
       "      <td>IM-0001-0001.jpeg</td>\n",
       "      <td>JPEG</td>\n",
       "      <td>test</td>\n",
       "      <td>NORMAL</td>\n",
       "      <td>NaN</td>\n",
       "      <td>1317</td>\n",
       "      <td>1857</td>\n",
       "      <td>2445669</td>\n",
       "      <td>L</td>\n",
       "      <td>131.00</td>\n",
       "      <td>132.0</td>\n",
       "      <td>57.10</td>\n",
       "      <td>70.70</td>\n",
       "    </tr>\n",
       "    <tr>\n",
       "      <th>1</th>\n",
       "      <td>IM-0003-0001.jpeg</td>\n",
       "      <td>JPEG</td>\n",
       "      <td>test</td>\n",
       "      <td>NORMAL</td>\n",
       "      <td>NaN</td>\n",
       "      <td>1509</td>\n",
       "      <td>2111</td>\n",
       "      <td>3185499</td>\n",
       "      <td>L</td>\n",
       "      <td>142.45</td>\n",
       "      <td>150.0</td>\n",
       "      <td>60.67</td>\n",
       "      <td>77.07</td>\n",
       "    </tr>\n",
       "    <tr>\n",
       "      <th>2</th>\n",
       "      <td>IM-0005-0001.jpeg</td>\n",
       "      <td>JPEG</td>\n",
       "      <td>test</td>\n",
       "      <td>NORMAL</td>\n",
       "      <td>NaN</td>\n",
       "      <td>1837</td>\n",
       "      <td>2031</td>\n",
       "      <td>3730947</td>\n",
       "      <td>L</td>\n",
       "      <td>136.25</td>\n",
       "      <td>138.0</td>\n",
       "      <td>55.40</td>\n",
       "      <td>75.37</td>\n",
       "    </tr>\n",
       "    <tr>\n",
       "      <th>3</th>\n",
       "      <td>IM-0006-0001.jpeg</td>\n",
       "      <td>JPEG</td>\n",
       "      <td>test</td>\n",
       "      <td>NORMAL</td>\n",
       "      <td>NaN</td>\n",
       "      <td>1326</td>\n",
       "      <td>1663</td>\n",
       "      <td>2205138</td>\n",
       "      <td>L</td>\n",
       "      <td>148.67</td>\n",
       "      <td>152.0</td>\n",
       "      <td>42.32</td>\n",
       "      <td>84.65</td>\n",
       "    </tr>\n",
       "    <tr>\n",
       "      <th>4</th>\n",
       "      <td>IM-0007-0001.jpeg</td>\n",
       "      <td>JPEG</td>\n",
       "      <td>test</td>\n",
       "      <td>NORMAL</td>\n",
       "      <td>NaN</td>\n",
       "      <td>1818</td>\n",
       "      <td>2053</td>\n",
       "      <td>3732354</td>\n",
       "      <td>L</td>\n",
       "      <td>137.70</td>\n",
       "      <td>137.0</td>\n",
       "      <td>53.97</td>\n",
       "      <td>75.99</td>\n",
       "    </tr>\n",
       "  </tbody>\n",
       "</table>\n",
       "</div>"
      ],
      "text/plain": [
       "             fichier format  rep1    rep2 pathogen  height  width     size  \\\n",
       "0  IM-0001-0001.jpeg   JPEG  test  NORMAL      NaN    1317   1857  2445669   \n",
       "1  IM-0003-0001.jpeg   JPEG  test  NORMAL      NaN    1509   2111  3185499   \n",
       "2  IM-0005-0001.jpeg   JPEG  test  NORMAL      NaN    1837   2031  3730947   \n",
       "3  IM-0006-0001.jpeg   JPEG  test  NORMAL      NaN    1326   1663  2205138   \n",
       "4  IM-0007-0001.jpeg   JPEG  test  NORMAL      NaN    1818   2053  3732354   \n",
       "\n",
       "  mode    mean  median    std  seuil100  \n",
       "0    L  131.00   132.0  57.10     70.70  \n",
       "1    L  142.45   150.0  60.67     77.07  \n",
       "2    L  136.25   138.0  55.40     75.37  \n",
       "3    L  148.67   152.0  42.32     84.65  \n",
       "4    L  137.70   137.0  53.97     75.99  "
      ]
     },
     "execution_count": 3,
     "metadata": {},
     "output_type": "execute_result"
    }
   ],
   "source": [
    "fichier = 'data.csv'\n",
    "\n",
    "df = pd.read_csv(fichier, sep=';')\n",
    "\n",
    "df.head()"
   ]
  },
  {
   "cell_type": "code",
   "execution_count": 4,
   "metadata": {
    "pycharm": {
     "name": "#%%\n"
    }
   },
   "outputs": [],
   "source": [
    "df['path'] = path\n",
    "\n",
    "df['path'] = df['path'].str.cat([df['rep1'], df['rep2'], df['fichier']], sep = os.sep)"
   ]
  },
  {
   "cell_type": "code",
   "execution_count": 9,
   "metadata": {},
   "outputs": [
    {
     "data": {
      "image/png": "[encoded data removed]",
      "text/plain": [
       "<Figure size 432x288 with 1 Axes>"
      ]
     },
     "metadata": {
      "needs_background": "light"
     },
     "output_type": "display_data"
    }
   ],
   "source": [
    "plt.scatter(x=df.height,y=df.width,s=0.5);"
   ]
  },
  {
   "cell_type": "code",
   "execution_count": 20,
   "metadata": {},
   "outputs": [
    {
     "data": {
      "image/png": "[encoded data removed]",
      "text/plain": [
       "<Figure size 432x288 with 1 Axes>"
      ]
     },
     "metadata": {
      "needs_background": "light"
     },
     "output_type": "display_data"
    }
   ],
   "source": [
    "plt.boxplot([df.height,df.width]);\n",
    "\n"
   ]
  },
  {
   "cell_type": "code",
   "execution_count": 33,
   "metadata": {},
   "outputs": [
    {
     "data": {
      "text/plain": [
       "L      5573\n",
       "RGB     283\n",
       "Name: mode, dtype: int64"
      ]
     },
     "execution_count": 33,
     "metadata": {},
     "output_type": "execute_result"
    }
   ],
   "source": [
    "df['mode'].value_counts()"
   ]
  },
  {
   "cell_type": "code",
   "execution_count": 34,
   "metadata": {},
   "outputs": [
    {
     "data": {
      "text/plain": [
       "train    5216\n",
       "test      624\n",
       "val        16\n",
       "Name: rep1, dtype: int64"
      ]
     },
     "execution_count": 34,
     "metadata": {},
     "output_type": "execute_result"
    }
   ],
   "source": [
    "df['rep1'].value_counts()"
   ]
  },
  {
   "cell_type": "code",
   "execution_count": 35,
   "metadata": {},
   "outputs": [
    {
     "data": {
      "text/plain": [
       "PNEUMONIA    4273\n",
       "NORMAL       1583\n",
       "Name: rep2, dtype: int64"
      ]
     },
     "execution_count": 35,
     "metadata": {},
     "output_type": "execute_result"
    }
   ],
   "source": [
    "df['rep2'].value_counts()"
   ]
  },
  {
   "cell_type": "code",
   "execution_count": 36,
   "metadata": {},
   "outputs": [
    {
     "data": {
      "text/plain": [
       "bacteria    2780\n",
       "virus       1493\n",
       "Name: pathogen, dtype: int64"
      ]
     },
     "execution_count": 36,
     "metadata": {},
     "output_type": "execute_result"
    }
   ],
   "source": [
    "df['pathogen'].value_counts()"
   ]
  },
  {
   "cell_type": "code",
   "execution_count": 38,
   "metadata": {},
   "outputs": [
    {
     "data": {
      "text/html": [
       "<div>\n",
       "<style scoped>\n",
       "    .dataframe tbody tr th:only-of-type {\n",
       "        vertical-align: middle;\n",
       "    }\n",
       "\n",
       "    .dataframe tbody tr th {\n",
       "        vertical-align: top;\n",
       "    }\n",
       "\n",
       "    .dataframe thead th {\n",
       "        text-align: right;\n",
       "    }\n",
       "</style>\n",
       "<table border=\"1\" class=\"dataframe\">\n",
       "  <thead>\n",
       "    <tr style=\"text-align: right;\">\n",
       "      <th></th>\n",
       "      <th>Unnamed: 0</th>\n",
       "      <th>fichier</th>\n",
       "      <th>format</th>\n",
       "      <th>pathogen</th>\n",
       "      <th>rep1</th>\n",
       "      <th>rep2</th>\n",
       "      <th>0</th>\n",
       "      <th>1</th>\n",
       "      <th>2</th>\n",
       "      <th>3</th>\n",
       "      <th>...</th>\n",
       "      <th>190</th>\n",
       "      <th>191</th>\n",
       "      <th>192</th>\n",
       "      <th>193</th>\n",
       "      <th>194</th>\n",
       "      <th>195</th>\n",
       "      <th>196</th>\n",
       "      <th>197</th>\n",
       "      <th>198</th>\n",
       "      <th>199</th>\n",
       "    </tr>\n",
       "  </thead>\n",
       "  <tbody>\n",
       "    <tr>\n",
       "      <th>0</th>\n",
       "      <td>0</td>\n",
       "      <td>IM-0115-0001.jpeg</td>\n",
       "      <td>JPEG</td>\n",
       "      <td>NaN</td>\n",
       "      <td>train</td>\n",
       "      <td>normal</td>\n",
       "      <td>24.0</td>\n",
       "      <td>20.0</td>\n",
       "      <td>19.0</td>\n",
       "      <td>15.0</td>\n",
       "      <td>...</td>\n",
       "      <td>137.0</td>\n",
       "      <td>153.0</td>\n",
       "      <td>166.0</td>\n",
       "      <td>133.0</td>\n",
       "      <td>100.0</td>\n",
       "      <td>94.0</td>\n",
       "      <td>94.0</td>\n",
       "      <td>91.0</td>\n",
       "      <td>94.0</td>\n",
       "      <td>95.0</td>\n",
       "    </tr>\n",
       "    <tr>\n",
       "      <th>1</th>\n",
       "      <td>1</td>\n",
       "      <td>IM-0115-0001.jpeg</td>\n",
       "      <td>JPEG</td>\n",
       "      <td>NaN</td>\n",
       "      <td>train</td>\n",
       "      <td>normal</td>\n",
       "      <td>22.0</td>\n",
       "      <td>22.0</td>\n",
       "      <td>19.0</td>\n",
       "      <td>20.0</td>\n",
       "      <td>...</td>\n",
       "      <td>141.0</td>\n",
       "      <td>170.0</td>\n",
       "      <td>148.0</td>\n",
       "      <td>103.0</td>\n",
       "      <td>98.0</td>\n",
       "      <td>95.0</td>\n",
       "      <td>92.0</td>\n",
       "      <td>94.0</td>\n",
       "      <td>97.0</td>\n",
       "      <td>95.0</td>\n",
       "    </tr>\n",
       "    <tr>\n",
       "      <th>2</th>\n",
       "      <td>2</td>\n",
       "      <td>IM-0115-0001.jpeg</td>\n",
       "      <td>JPEG</td>\n",
       "      <td>NaN</td>\n",
       "      <td>train</td>\n",
       "      <td>normal</td>\n",
       "      <td>22.0</td>\n",
       "      <td>20.0</td>\n",
       "      <td>19.0</td>\n",
       "      <td>17.0</td>\n",
       "      <td>...</td>\n",
       "      <td>151.0</td>\n",
       "      <td>165.0</td>\n",
       "      <td>130.0</td>\n",
       "      <td>98.0</td>\n",
       "      <td>94.0</td>\n",
       "      <td>95.0</td>\n",
       "      <td>95.0</td>\n",
       "      <td>92.0</td>\n",
       "      <td>94.0</td>\n",
       "      <td>91.0</td>\n",
       "    </tr>\n",
       "    <tr>\n",
       "      <th>3</th>\n",
       "      <td>3</td>\n",
       "      <td>IM-0115-0001.jpeg</td>\n",
       "      <td>JPEG</td>\n",
       "      <td>NaN</td>\n",
       "      <td>train</td>\n",
       "      <td>normal</td>\n",
       "      <td>20.0</td>\n",
       "      <td>20.0</td>\n",
       "      <td>20.0</td>\n",
       "      <td>18.0</td>\n",
       "      <td>...</td>\n",
       "      <td>171.0</td>\n",
       "      <td>148.0</td>\n",
       "      <td>98.0</td>\n",
       "      <td>96.0</td>\n",
       "      <td>98.0</td>\n",
       "      <td>92.0</td>\n",
       "      <td>88.0</td>\n",
       "      <td>89.0</td>\n",
       "      <td>90.0</td>\n",
       "      <td>87.0</td>\n",
       "    </tr>\n",
       "    <tr>\n",
       "      <th>4</th>\n",
       "      <td>4</td>\n",
       "      <td>IM-0115-0001.jpeg</td>\n",
       "      <td>JPEG</td>\n",
       "      <td>NaN</td>\n",
       "      <td>train</td>\n",
       "      <td>normal</td>\n",
       "      <td>21.0</td>\n",
       "      <td>21.0</td>\n",
       "      <td>19.0</td>\n",
       "      <td>16.0</td>\n",
       "      <td>...</td>\n",
       "      <td>165.0</td>\n",
       "      <td>126.0</td>\n",
       "      <td>99.0</td>\n",
       "      <td>100.0</td>\n",
       "      <td>94.0</td>\n",
       "      <td>90.0</td>\n",
       "      <td>91.0</td>\n",
       "      <td>88.0</td>\n",
       "      <td>88.0</td>\n",
       "      <td>91.0</td>\n",
       "    </tr>\n",
       "  </tbody>\n",
       "</table>\n",
       "<p>5 rows × 206 columns</p>\n",
       "</div>"
      ],
      "text/plain": [
       "   Unnamed: 0            fichier format  pathogen   rep1    rep2     0     1  \\\n",
       "0           0  IM-0115-0001.jpeg   JPEG       NaN  train  normal  24.0  20.0   \n",
       "1           1  IM-0115-0001.jpeg   JPEG       NaN  train  normal  22.0  22.0   \n",
       "2           2  IM-0115-0001.jpeg   JPEG       NaN  train  normal  22.0  20.0   \n",
       "3           3  IM-0115-0001.jpeg   JPEG       NaN  train  normal  20.0  20.0   \n",
       "4           4  IM-0115-0001.jpeg   JPEG       NaN  train  normal  21.0  21.0   \n",
       "\n",
       "      2     3  ...    190    191    192    193    194   195   196   197   198  \\\n",
       "0  19.0  15.0  ...  137.0  153.0  166.0  133.0  100.0  94.0  94.0  91.0  94.0   \n",
       "1  19.0  20.0  ...  141.0  170.0  148.0  103.0   98.0  95.0  92.0  94.0  97.0   \n",
       "2  19.0  17.0  ...  151.0  165.0  130.0   98.0   94.0  95.0  95.0  92.0  94.0   \n",
       "3  20.0  18.0  ...  171.0  148.0   98.0   96.0   98.0  92.0  88.0  89.0  90.0   \n",
       "4  19.0  16.0  ...  165.0  126.0   99.0  100.0   94.0  90.0  91.0  88.0  88.0   \n",
       "\n",
       "    199  \n",
       "0  95.0  \n",
       "1  95.0  \n",
       "2  91.0  \n",
       "3  87.0  \n",
       "4  91.0  \n",
       "\n",
       "[5 rows x 206 columns]"
      ]
     },
     "execution_count": 38,
     "metadata": {},
     "output_type": "execute_result"
    }
   ],
   "source": [
    "adres = 'C:\\\\Users\\\\4799XA\\\\OneDrive\\\\Formation DATASCIENCE\\\\Projet DATA SCIENCE\\\\chest_xray\\\\'\n",
    "fichier = adres + 'chest_xray_train_normal.csv'\n",
    "\n",
    "df = pd.read_csv(fichier, sep=';')\n",
    "\n",
    "df.head()"
   ]
  },
  {
   "cell_type": "code",
   "execution_count": 56,
   "metadata": {},
   "outputs": [],
   "source": [
    "df1 = df.groupby([df.fichier])"
   ]
  },
  {
   "cell_type": "code",
   "execution_count": 59,
   "metadata": {},
   "outputs": [],
   "source": [
    "liste_fichiers = df['fichier'].value_counts()"
   ]
  },
  {
   "cell_type": "code",
   "execution_count": null,
   "metadata": {
    "pycharm": {
     "name": "#%%\n"
    }
   },
   "outputs": [],
   "source": [
    "for i in liste_fichiers:\n",
    "    "
   ]
  }
 ],
 "metadata": {
  "kernelspec": {
   "display_name": "Python 3",
   "language": "python",
   "name": "python3"
  },
  "language_info": {
   "codemirror_mode": {
    "name": "ipython",
    "version": 3
   },
   "file_extension": ".py",
   "mimetype": "text/x-python",
   "name": "python",
   "nbconvert_exporter": "python",
   "pygments_lexer": "ipython3",
   "version": "3.7.3"
  }
 },
 "nbformat": 4,
 "nbformat_minor": 1
}
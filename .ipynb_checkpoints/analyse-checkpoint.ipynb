{
 "cells": [
  {
   "cell_type": "code",
   "execution_count": 1,
   "metadata": {},
   "outputs": [],
   "source": [
    "import os\n",
    "import cv2\n",
    "\n",
    "import numpy as np\n",
    "import pandas as pd\n",
    "from matplotlib import pyplot as plt"
   ]
  },
  {
   "cell_type": "code",
   "execution_count": 2,
   "metadata": {
    "pycharm": {
     "name": "#%%\n"
    }
   },
   "outputs": [],
   "source": [
    "path = r\"C:\\Users\\4799XA\\OneDrive\\Formation DATASCIENCE\\Projet DATA SCIENCE\\code\\fcdspneumonie\\fcdspneumonie\""
   ]
  },
  {
   "cell_type": "code",
   "execution_count": 3,
   "metadata": {
    "pycharm": {
     "name": "#%%\n"
    }
   },
   "outputs": [
    {
     "data": {
      "text/html": [
       "<div>\n",
       "<style scoped>\n",
       "    .dataframe tbody tr th:only-of-type {\n",
       "        vertical-align: middle;\n",
       "    }\n",
       "\n",
       "    .dataframe tbody tr th {\n",
       "        vertical-align: top;\n",
       "    }\n",
       "\n",
       "    .dataframe thead th {\n",
       "        text-align: right;\n",
       "    }\n",
       "</style>\n",
       "<table border=\"1\" class=\"dataframe\">\n",
       "  <thead>\n",
       "    <tr style=\"text-align: right;\">\n",
       "      <th></th>\n",
       "      <th>fichier</th>\n",
       "      <th>format</th>\n",
       "      <th>rep1</th>\n",
       "      <th>rep2</th>\n",
       "      <th>pathogen</th>\n",
       "      <th>height</th>\n",
       "      <th>width</th>\n",
       "      <th>size</th>\n",
       "      <th>mode</th>\n",
       "      <th>mean</th>\n",
       "      <th>median</th>\n",
       "      <th>std</th>\n",
       "      <th>seuil100</th>\n",
       "    </tr>\n",
       "  </thead>\n",
       "  <tbody>\n",
       "    <tr>\n",
       "      <th>0</th>\n",
       "      <td>IM-0001-0001.jpeg</td>\n",
       "      <td>JPEG</td>\n",
       "      <td>test</td>\n",
       "      <td>NORMAL</td>\n",
       "      <td>NaN</td>\n",
       "      <td>1317</td>\n",
       "      <td>1857</td>\n",
       "      <td>2445669</td>\n",
       "      <td>L</td>\n",
       "      <td>131.00</td>\n",
       "      <td>132.0</td>\n",
       "      <td>57.10</td>\n",
       "      <td>70.70</td>\n",
       "    </tr>\n",
       "    <tr>\n",
       "      <th>1</th>\n",
       "      <td>IM-0003-0001.jpeg</td>\n",
       "      <td>JPEG</td>\n",
       "      <td>test</td>\n",
       "      <td>NORMAL</td>\n",
       "      <td>NaN</td>\n",
       "      <td>1509</td>\n",
       "      <td>2111</td>\n",
       "      <td>3185499</td>\n",
       "      <td>L</td>\n",
       "      <td>142.45</td>\n",
       "      <td>150.0</td>\n",
       "      <td>60.67</td>\n",
       "      <td>77.07</td>\n",
       "    </tr>\n",
       "    <tr>\n",
       "      <th>2</th>\n",
       "      <td>IM-0005-0001.jpeg</td>\n",
       "      <td>JPEG</td>\n",
       "      <td>test</td>\n",
       "      <td>NORMAL</td>\n",
       "      <td>NaN</td>\n",
       "      <td>1837</td>\n",
       "      <td>2031</td>\n",
       "      <td>3730947</td>\n",
       "      <td>L</td>\n",
       "      <td>136.25</td>\n",
       "      <td>138.0</td>\n",
       "      <td>55.40</td>\n",
       "      <td>75.37</td>\n",
       "    </tr>\n",
       "    <tr>\n",
       "      <th>3</th>\n",
       "      <td>IM-0006-0001.jpeg</td>\n",
       "      <td>JPEG</td>\n",
       "      <td>test</td>\n",
       "      <td>NORMAL</td>\n",
       "      <td>NaN</td>\n",
       "      <td>1326</td>\n",
       "      <td>1663</td>\n",
       "      <td>2205138</td>\n",
       "      <td>L</td>\n",
       "      <td>148.67</td>\n",
       "      <td>152.0</td>\n",
       "      <td>42.32</td>\n",
       "      <td>84.65</td>\n",
       "    </tr>\n",
       "    <tr>\n",
       "      <th>4</th>\n",
       "      <td>IM-0007-0001.jpeg</td>\n",
       "      <td>JPEG</td>\n",
       "      <td>test</td>\n",
       "      <td>NORMAL</td>\n",
       "      <td>NaN</td>\n",
       "      <td>1818</td>\n",
       "      <td>2053</td>\n",
       "      <td>3732354</td>\n",
       "      <td>L</td>\n",
       "      <td>137.70</td>\n",
       "      <td>137.0</td>\n",
       "      <td>53.97</td>\n",
       "      <td>75.99</td>\n",
       "    </tr>\n",
       "  </tbody>\n",
       "</table>\n",
       "</div>"
      ],
      "text/plain": [
       "             fichier format  rep1    rep2 pathogen  height  width     size  \\\n",
       "0  IM-0001-0001.jpeg   JPEG  test  NORMAL      NaN    1317   1857  2445669   \n",
       "1  IM-0003-0001.jpeg   JPEG  test  NORMAL      NaN    1509   2111  3185499   \n",
       "2  IM-0005-0001.jpeg   JPEG  test  NORMAL      NaN    1837   2031  3730947   \n",
       "3  IM-0006-0001.jpeg   JPEG  test  NORMAL      NaN    1326   1663  2205138   \n",
       "4  IM-0007-0001.jpeg   JPEG  test  NORMAL      NaN    1818   2053  3732354   \n",
       "\n",
       "  mode    mean  median    std  seuil100  \n",
       "0    L  131.00   132.0  57.10     70.70  \n",
       "1    L  142.45   150.0  60.67     77.07  \n",
       "2    L  136.25   138.0  55.40     75.37  \n",
       "3    L  148.67   152.0  42.32     84.65  \n",
       "4    L  137.70   137.0  53.97     75.99  "
      ]
     },
     "execution_count": 3,
     "metadata": {},
     "output_type": "execute_result"
    }
   ],
   "source": [
    "fichier = 'data.csv'\n",
    "\n",
    "df = pd.read_csv(fichier, sep=';')\n",
    "\n",
    "df.head()"
   ]
  },
  {
   "cell_type": "code",
   "execution_count": 4,
   "metadata": {
    "pycharm": {
     "name": "#%%\n"
    }
   },
   "outputs": [],
   "source": [
    "df['path'] = path\n",
    "\n",
    "df['path'] = df['path'].str.cat([df['rep1'], df['rep2'], df['fichier']], sep = os.sep)"
   ]
  },
  {
   "cell_type": "code",
   "execution_count": null,
   "metadata": {},
   "outputs": [],
   "source": []
  }
 ],
 "metadata": {
  "kernelspec": {
   "display_name": "Python 3",
   "language": "python",
   "name": "python3"
  },
  "language_info": {
   "codemirror_mode": {
    "name": "ipython",
    "version": 3
   },
   "file_extension": ".py",
   "mimetype": "text/x-python",
   "name": "python",
   "nbconvert_exporter": "python",
   "pygments_lexer": "ipython3",
   "version": "3.7.3"
  }
 },
 "nbformat": 4,
 "nbformat_minor": 1
}
